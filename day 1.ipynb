{
 "cells": [
  {
   "cell_type": "code",
   "execution_count": null,
   "metadata": {},
   "outputs": [],
   "source": [
    "# Variables and Data Types\n",
    "name = \"AI-student\"\n",
    "age = 19 \n",
    "scores = [ 20, 30, 50, 90]\n",
    "fruits = [\"apple\", \"banana\", \"cherry\"]\n"
   ]
  },
  {
   "cell_type": "code",
   "execution_count": null,
   "metadata": {},
   "outputs": [],
   "source": [
    "# Loop and Conditional\n",
    "total_score = sum(scores)\n",
    "if total_score > 150 :\n",
    " print(\"good job!\")\n",
    "else\n",
    "  print(\"keep practicing!\")\n",
    "for x in fruits :\n",
    "  print(x)\n",
    "     \n",
    "     i =1\n",
    "  while i < 6 :\n",
    "    print(i)\n",
    "  if i == 3 :\n",
    "   break\n",
    "  else    \n",
    "    i+=1 "
   ]
  },
  {
   "cell_type": "code",
   "execution_count": null,
   "metadata": {},
   "outputs": [],
   "source": [
    "import pandas as pd\n",
    "\n",
    "# Create a DataFrame\n",
    " data = {\n",
    "  'Name' : ['BOB', 'Alisa', 'lucy'],\n",
    "   'Age' : [24, 23, 25 ],\n",
    "   'Score':[88, 80, 92],\n",
    " }\n",
    "\n",
    " df = pd.DataFrame(data)\n",
    "# View the DataFrame\n",
    "  print(df)\n",
    "\n",
    "# Add a new column\n",
    "df['Passed'] = df['Score'] > 90\n",
    "\n",
    "# Filter rows\n",
    "high_scorers = df[df['Score'] > 85]\n",
    "\n",
    "print(high_scorers)\n"
   ]
  }
 ],
 "metadata": {
  "language_info": {
   "name": "python"
  }
 },
 "nbformat": 4,
 "nbformat_minor": 2
}
